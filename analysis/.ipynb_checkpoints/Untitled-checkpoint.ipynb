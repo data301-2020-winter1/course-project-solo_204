{
 "cells": [
  {
   "cell_type": "code",
   "execution_count": 21,
   "metadata": {},
   "outputs": [],
   "source": [
    "import pandas as pd"
   ]
  },
  {
   "cell_type": "code",
   "execution_count": 26,
   "metadata": {},
   "outputs": [
    {
     "name": "stdout",
     "output_type": "stream",
     "text": [
      "              date   open   high    low  close    volume Name\n",
      "0       2013-02-08  15.07  15.12  14.63  14.75   8407500  AAL\n",
      "1       2013-02-11  14.89  15.01  14.26  14.46   8882000  AAL\n",
      "2       2013-02-12  14.45  14.51  14.10  14.27   8126000  AAL\n",
      "3       2013-02-13  14.30  14.94  14.25  14.66  10259500  AAL\n",
      "4       2013-02-14  14.94  14.96  13.16  13.99  31879900  AAL\n",
      "...            ...    ...    ...    ...    ...       ...  ...\n",
      "619035  2018-02-01  76.84  78.27  76.69  77.82   2982259  ZTS\n",
      "619036  2018-02-02  77.53  78.12  76.73  76.78   2595187  ZTS\n",
      "619037  2018-02-05  76.64  76.92  73.18  73.83   2962031  ZTS\n",
      "619038  2018-02-06  72.74  74.56  72.13  73.27   4924323  ZTS\n",
      "619039  2018-02-07  72.70  75.00  72.69  73.86   4534912  ZTS\n",
      "\n",
      "[619040 rows x 7 columns]\n"
     ]
    }
   ],
   "source": [
    "df = pd.read_csv(\"../data/raw/all_stocks_5yr.csv\")\n",
    "print(df)"
   ]
  }
 ],
 "metadata": {
  "kernelspec": {
   "display_name": "Python 3",
   "language": "python",
   "name": "python3"
  },
  "language_info": {
   "codemirror_mode": {
    "name": "ipython",
    "version": 3
   },
   "file_extension": ".py",
   "mimetype": "text/x-python",
   "name": "python",
   "nbconvert_exporter": "python",
   "pygments_lexer": "ipython3",
   "version": "3.8.3"
  }
 },
 "nbformat": 4,
 "nbformat_minor": 4
}
