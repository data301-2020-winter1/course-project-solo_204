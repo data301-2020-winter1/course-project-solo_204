{
 "cells": [
  {
   "cell_type": "code",
   "execution_count": 1,
   "metadata": {},
   "outputs": [],
   "source": [
    "import pandas as pd\n",
    "import numpy as np\n",
    "import matplotlib as plt"
   ]
  },
  {
   "cell_type": "code",
   "execution_count": 2,
   "metadata": {},
   "outputs": [],
   "source": [
    "def load_and_process(csv1,csv2):\n",
    "\n",
    "    #Load Data and add columns for \"daily gain\", \"daily volatility\" and a blank column \"industry\" to be filled later to \"df\"\n",
    "    \n",
    "    df = (pd.read_csv(csv1)\n",
    "\n",
    "            .drop([\"volume\"], axis =1 )\n",
    "\n",
    "            .assign(\n",
    "              daily_gain = lambda x: x[\"open\"]-x[\"close\"],\n",
    "              daily_volatility = lambda x: x[\"high\"]-x[\"low\"],\n",
    "              industry = lambda x: \"\")\n",
    "         )\n",
    "\n",
    "    # Load second data set, drop unwanted columns, name column to match other dataframe\n",
    "\n",
    "    df_industry = (pd.read_csv(csv2)\n",
    "\n",
    "                   .drop([\"Security\",\"SEC filings\",\"Headquarters Location\",\"Date first added\",\"CIK\",\"Founded\\n\"], axis =1)\n",
    "\n",
    "                   .rename(columns={\"Symbol\\n\":\"Name\"})\n",
    "\n",
    "                  )\n",
    "\n",
    "    # Cean ticker symbols to match \"df\"\n",
    "    df_industry[\"Name\"] = df_industry[\"Name\"].map(lambda x: x.rstrip('\\n'))\n",
    "\n",
    "    #Join the dataframes so that the \"GICS Sub-Industry\" column from \"df_industry\" is in \"df\" and dropna values(stocks that were not presented on both dataframes)\n",
    "    #Sort values by \"Name\"\n",
    "    df2 = (df.join(df_industry.set_index(cols), on=\"Name\")\n",
    "\n",
    "             .dropna()\n",
    "\n",
    "             .sort_values(\"Name\")\n",
    "\n",
    "          )\n",
    "    \n",
    "    return df2"
   ]
  }
 ],
 "metadata": {
  "kernelspec": {
   "display_name": "Python 3",
   "language": "python",
   "name": "python3"
  },
  "language_info": {
   "codemirror_mode": {
    "name": "ipython",
    "version": 3
   },
   "file_extension": ".py",
   "mimetype": "text/x-python",
   "name": "python",
   "nbconvert_exporter": "python",
   "pygments_lexer": "ipython3",
   "version": "3.8.3"
  }
 },
 "nbformat": 4,
 "nbformat_minor": 4
}
